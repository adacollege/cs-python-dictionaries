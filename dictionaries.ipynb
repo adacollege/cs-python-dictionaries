{
 "cells": [
  {
   "cell_type": "markdown",
   "metadata": {},
   "source": [
    "## Dictionaries in Python\n",
    "\n",
    "A very useful data type built into Python is the **dictionary**  \n",
    "\n",
    "\n",
    "Unlike sequences, which are indexed by a range of numbers, dictionaries are indexed by **keys**, which can be any type; strings and numbers can always be keys.  But, you can’t use lists as keys, since lists can be modified.\n",
    "\n",
    "It is best to think of a dictionary as an unordered set of **key: value** pairs, with the requirement that the keys are unique (no two can be the same within one dictionary). \n",
    "\n",
    "## Syntax of dictionaries\n",
    "\n",
    "A pair of curly braces creates an empty dictionary: {} \n",
    "\n",
    "``` myDict = {} # creates an empty dictionary data structure ```\n",
    "\n",
    "Placing a comma-separated list of **key:value** pairs within the braces adds initial key:value pairs to the dictionary\n",
    "\n",
    "``` birthdayDictionary = {\"Ana\": \"29/2\", \"Barb\" : \"12/4\", \"Charles\" : \"13/6\"} ```\n",
    "\n",
    "The **key** can then be used an you would an index in a list (ie within the square brackets), so\n",
    "\n",
    "``` birthdayDictionary[\"Ana\"] ```\n",
    "\n",
    "will return \"29/2\", while\n",
    "\n",
    "``` birthdayDictionary[\"Charles\"] ```\n",
    "\n",
    "will return \"13/6\""
   ]
  },
  {
   "cell_type": "code",
   "execution_count": 1,
   "metadata": {},
   "outputs": [],
   "source": [
    "birthdayDictionary = {\"Ana\": \"29/2\", \"Barb\" : \"12/4\", \"Charles\" : \"13/6\"}\n",
    "# get Ana's birthday\n",
    "\n",
    "#get Barb's birthday\n",
    "\n",
    "#get Charles' birthday"
   ]
  },
  {
   "cell_type": "markdown",
   "metadata": {},
   "source": [
    "## Adding key:value pairs to a dictionary\n",
    "\n",
    "This is as simple as:\n",
    "\n",
    "``` birthdayDictionary[\"Tina\"] = \"2/01\" ```"
   ]
  },
  {
   "cell_type": "code",
   "execution_count": 2,
   "metadata": {},
   "outputs": [
    {
     "data": {
      "text/plain": [
       "{'Ana': '29/2', 'Barb': '12/4', 'Charles': '13/6', 'Tina': '2/01'}"
      ]
     },
     "execution_count": 2,
     "metadata": {},
     "output_type": "execute_result"
    }
   ],
   "source": [
    "birthdayDictionary[\"Tina\"] = \"2/01\"\n",
    "birthdayDictionary\n",
    "\n",
    "# add 3 more birthdays to this \n",
    "\n",
    "#what happens when you attempt to add a new key:value pair where the key is NOT unique??\n"
   ]
  },
  {
   "cell_type": "markdown",
   "metadata": {},
   "source": [
    "## Using a loop to step through a dictionary\n",
    "\n",
    "A dictionary is a sequence so can be iterated through, as with a list."
   ]
  },
  {
   "cell_type": "code",
   "execution_count": 3,
   "metadata": {},
   "outputs": [
    {
     "name": "stdout",
     "output_type": "stream",
     "text": [
      "key=  Ana  value=  29/2\n",
      "key=  Charles  value=  13/6\n",
      "key=  Barb  value=  12/4\n",
      "key=  Tina  value=  2/01\n",
      "Ana : 29/2\n",
      "Charles : 13/6\n",
      "Barb : 12/4\n",
      "Tina : 2/01\n"
     ]
    }
   ],
   "source": [
    "#first simple way to iterate through a dictionary\n",
    "for key in birthdayDictionary:\n",
    "    print(\"key= \", key, \" value= \", birthdayDictionary[key])\n",
    "\n",
    "\n",
    "#another way to print all the key:value pairs\n",
    "for key, value in birthdayDictionary.items():\n",
    "    print(key, \":\", value)\n"
   ]
  },
  {
   "cell_type": "markdown",
   "metadata": {},
   "source": [
    "## Testing whether a key is in a dictionary\n",
    "\n",
    "really each with the ``` in ``` operator"
   ]
  },
  {
   "cell_type": "code",
   "execution_count": 11,
   "metadata": {},
   "outputs": [
    {
     "name": "stdout",
     "output_type": "stream",
     "text": [
      "the key  test does not exist in the birthday dictioanry\n"
     ]
    }
   ],
   "source": [
    "key = \"tina\"\n",
    "\n",
    "if key in birthdayDictionary:\n",
    "    print(\"yes its there!\")\n",
    "else:\n",
    "    print(\"the key \", key, \"does not exist in the birthday dictioanry\")"
   ]
  },
  {
   "cell_type": "code",
   "execution_count": 1,
   "metadata": {},
   "outputs": [
    {
     "name": "stdout",
     "output_type": "stream",
     "text": [
      "enter a new key - your friend's name: suraj\n",
      "enter a new value - that friend's favourite colour: red\n",
      "do you want to continue? y/n: n\n"
     ]
    },
    {
     "data": {
      "text/plain": [
       "{'suraj': 'red'}"
      ]
     },
     "execution_count": 1,
     "metadata": {},
     "output_type": "execute_result"
    }
   ],
   "source": [
    "## Filling a dictionary with user input\n",
    "newDict = {}\n",
    "def fillDict():\n",
    "\n",
    "    \n",
    "    cont = 'y' # assume the user wants to run the loop at least once\n",
    "    while cont == 'y' or cont == 'yes':\n",
    "        key=input(\"enter a new key - your friend's name: \")\n",
    "        val=input(\"enter a new value - that friend's favourite colour: \")\n",
    "        newDict[key]=val\n",
    "        cont = input(\"do you want to continue? y/n: \").lower()\n",
    "        \n",
    "    return newDict\n",
    "\n",
    "myDict=fillDict()\n",
    "myDict"
   ]
  },
  {
   "cell_type": "markdown",
   "metadata": {},
   "source": [
    "## Task - query the dictionary\n",
    "\n",
    "Allow the user to enter the name of a friend and tell them that friend's favourite colour\n",
    "\n",
    "### extention - make your code robust\n",
    "\n",
    "An error could occur if a friend, who's name is not in the dictionary, is entered. Use a try/ec"
   ]
  },
  {
   "cell_type": "code",
   "execution_count": 3,
   "metadata": {},
   "outputs": [
    {
     "name": "stdout",
     "output_type": "stream",
     "text": [
      "enter key: sad\n",
      "key does not exist\n",
      "stil want to run? y/n: y\n",
      "enter key: suraj\n",
      "red\n"
     ]
    },
    {
     "ename": "KeyboardInterrupt",
     "evalue": "",
     "output_type": "error",
     "traceback": [
      "\u001b[0;31m---------------------------------------------------------------------------\u001b[0m",
      "\u001b[0;31mKeyboardInterrupt\u001b[0m                         Traceback (most recent call last)",
      "\u001b[0;32m/usr/local/lib/python3.5/dist-packages/ipykernel/kernelbase.py\u001b[0m in \u001b[0;36m_input_request\u001b[0;34m(self, prompt, ident, parent, password)\u001b[0m\n\u001b[1;32m    726\u001b[0m             \u001b[0;32mtry\u001b[0m\u001b[0;34m:\u001b[0m\u001b[0;34m\u001b[0m\u001b[0m\n\u001b[0;32m--> 727\u001b[0;31m                 \u001b[0mident\u001b[0m\u001b[0;34m,\u001b[0m \u001b[0mreply\u001b[0m \u001b[0;34m=\u001b[0m \u001b[0mself\u001b[0m\u001b[0;34m.\u001b[0m\u001b[0msession\u001b[0m\u001b[0;34m.\u001b[0m\u001b[0mrecv\u001b[0m\u001b[0;34m(\u001b[0m\u001b[0mself\u001b[0m\u001b[0;34m.\u001b[0m\u001b[0mstdin_socket\u001b[0m\u001b[0;34m,\u001b[0m \u001b[0;36m0\u001b[0m\u001b[0;34m)\u001b[0m\u001b[0;34m\u001b[0m\u001b[0m\n\u001b[0m\u001b[1;32m    728\u001b[0m             \u001b[0;32mexcept\u001b[0m \u001b[0mException\u001b[0m\u001b[0;34m:\u001b[0m\u001b[0;34m\u001b[0m\u001b[0m\n",
      "\u001b[0;32m/usr/local/lib/python3.5/dist-packages/jupyter_client/session.py\u001b[0m in \u001b[0;36mrecv\u001b[0;34m(self, socket, mode, content, copy)\u001b[0m\n\u001b[1;32m    802\u001b[0m         \u001b[0;32mtry\u001b[0m\u001b[0;34m:\u001b[0m\u001b[0;34m\u001b[0m\u001b[0m\n\u001b[0;32m--> 803\u001b[0;31m             \u001b[0mmsg_list\u001b[0m \u001b[0;34m=\u001b[0m \u001b[0msocket\u001b[0m\u001b[0;34m.\u001b[0m\u001b[0mrecv_multipart\u001b[0m\u001b[0;34m(\u001b[0m\u001b[0mmode\u001b[0m\u001b[0;34m,\u001b[0m \u001b[0mcopy\u001b[0m\u001b[0;34m=\u001b[0m\u001b[0mcopy\u001b[0m\u001b[0;34m)\u001b[0m\u001b[0;34m\u001b[0m\u001b[0m\n\u001b[0m\u001b[1;32m    804\u001b[0m         \u001b[0;32mexcept\u001b[0m \u001b[0mzmq\u001b[0m\u001b[0;34m.\u001b[0m\u001b[0mZMQError\u001b[0m \u001b[0;32mas\u001b[0m \u001b[0me\u001b[0m\u001b[0;34m:\u001b[0m\u001b[0;34m\u001b[0m\u001b[0m\n",
      "\u001b[0;32m/usr/local/lib/python3.5/dist-packages/zmq/sugar/socket.py\u001b[0m in \u001b[0;36mrecv_multipart\u001b[0;34m(self, flags, copy, track)\u001b[0m\n\u001b[1;32m    394\u001b[0m         \"\"\"\n\u001b[0;32m--> 395\u001b[0;31m         \u001b[0mparts\u001b[0m \u001b[0;34m=\u001b[0m \u001b[0;34m[\u001b[0m\u001b[0mself\u001b[0m\u001b[0;34m.\u001b[0m\u001b[0mrecv\u001b[0m\u001b[0;34m(\u001b[0m\u001b[0mflags\u001b[0m\u001b[0;34m,\u001b[0m \u001b[0mcopy\u001b[0m\u001b[0;34m=\u001b[0m\u001b[0mcopy\u001b[0m\u001b[0;34m,\u001b[0m \u001b[0mtrack\u001b[0m\u001b[0;34m=\u001b[0m\u001b[0mtrack\u001b[0m\u001b[0;34m)\u001b[0m\u001b[0;34m]\u001b[0m\u001b[0;34m\u001b[0m\u001b[0m\n\u001b[0m\u001b[1;32m    396\u001b[0m         \u001b[0;31m# have first part already, only loop while more to receive\u001b[0m\u001b[0;34m\u001b[0m\u001b[0;34m\u001b[0m\u001b[0m\n",
      "\u001b[0;32mzmq/backend/cython/socket.pyx\u001b[0m in \u001b[0;36mzmq.backend.cython.socket.Socket.recv\u001b[0;34m()\u001b[0m\n",
      "\u001b[0;32mzmq/backend/cython/socket.pyx\u001b[0m in \u001b[0;36mzmq.backend.cython.socket.Socket.recv\u001b[0;34m()\u001b[0m\n",
      "\u001b[0;32mzmq/backend/cython/socket.pyx\u001b[0m in \u001b[0;36mzmq.backend.cython.socket._recv_copy\u001b[0;34m()\u001b[0m\n",
      "\u001b[0;32m/usr/local/lib/python3.5/dist-packages/zmq/backend/cython/checkrc.pxd\u001b[0m in \u001b[0;36mzmq.backend.cython.checkrc._check_rc\u001b[0;34m()\u001b[0m\n",
      "\u001b[0;31mKeyboardInterrupt\u001b[0m: ",
      "\nDuring handling of the above exception, another exception occurred:\n",
      "\u001b[0;31mKeyboardInterrupt\u001b[0m                         Traceback (most recent call last)",
      "\u001b[0;32m<ipython-input-3-d4c1e48cb0d3>\u001b[0m in \u001b[0;36m<module>\u001b[0;34m()\u001b[0m\n\u001b[1;32m     12\u001b[0m \u001b[0;32mwhile\u001b[0m \u001b[0mrun\u001b[0m \u001b[0;34m==\u001b[0m \u001b[0;34m'y'\u001b[0m\u001b[0;34m:\u001b[0m\u001b[0;34m\u001b[0m\u001b[0m\n\u001b[1;32m     13\u001b[0m     \u001b[0mprint\u001b[0m\u001b[0;34m(\u001b[0m\u001b[0mgetdict\u001b[0m\u001b[0;34m(\u001b[0m\u001b[0minput\u001b[0m\u001b[0;34m(\u001b[0m\u001b[0;34m'enter key: '\u001b[0m\u001b[0;34m)\u001b[0m\u001b[0;34m)\u001b[0m\u001b[0;34m)\u001b[0m\u001b[0;34m\u001b[0m\u001b[0m\n\u001b[0;32m---> 14\u001b[0;31m     \u001b[0mrun\u001b[0m \u001b[0;34m=\u001b[0m \u001b[0minput\u001b[0m\u001b[0;34m(\u001b[0m\u001b[0;34m\"stil want to run? y/n: \"\u001b[0m\u001b[0;34m)\u001b[0m\u001b[0;34m\u001b[0m\u001b[0m\n\u001b[0m",
      "\u001b[0;32m/usr/local/lib/python3.5/dist-packages/ipykernel/kernelbase.py\u001b[0m in \u001b[0;36mraw_input\u001b[0;34m(self, prompt)\u001b[0m\n\u001b[1;32m    700\u001b[0m             \u001b[0mself\u001b[0m\u001b[0;34m.\u001b[0m\u001b[0m_parent_ident\u001b[0m\u001b[0;34m,\u001b[0m\u001b[0;34m\u001b[0m\u001b[0m\n\u001b[1;32m    701\u001b[0m             \u001b[0mself\u001b[0m\u001b[0;34m.\u001b[0m\u001b[0m_parent_header\u001b[0m\u001b[0;34m,\u001b[0m\u001b[0;34m\u001b[0m\u001b[0m\n\u001b[0;32m--> 702\u001b[0;31m             \u001b[0mpassword\u001b[0m\u001b[0;34m=\u001b[0m\u001b[0;32mFalse\u001b[0m\u001b[0;34m,\u001b[0m\u001b[0;34m\u001b[0m\u001b[0m\n\u001b[0m\u001b[1;32m    703\u001b[0m         )\n\u001b[1;32m    704\u001b[0m \u001b[0;34m\u001b[0m\u001b[0m\n",
      "\u001b[0;32m/usr/local/lib/python3.5/dist-packages/ipykernel/kernelbase.py\u001b[0m in \u001b[0;36m_input_request\u001b[0;34m(self, prompt, ident, parent, password)\u001b[0m\n\u001b[1;32m    730\u001b[0m             \u001b[0;32mexcept\u001b[0m \u001b[0mKeyboardInterrupt\u001b[0m\u001b[0;34m:\u001b[0m\u001b[0;34m\u001b[0m\u001b[0m\n\u001b[1;32m    731\u001b[0m                 \u001b[0;31m# re-raise KeyboardInterrupt, to truncate traceback\u001b[0m\u001b[0;34m\u001b[0m\u001b[0;34m\u001b[0m\u001b[0m\n\u001b[0;32m--> 732\u001b[0;31m                 \u001b[0;32mraise\u001b[0m \u001b[0mKeyboardInterrupt\u001b[0m\u001b[0;34m\u001b[0m\u001b[0m\n\u001b[0m\u001b[1;32m    733\u001b[0m             \u001b[0;32melse\u001b[0m\u001b[0;34m:\u001b[0m\u001b[0;34m\u001b[0m\u001b[0m\n\u001b[1;32m    734\u001b[0m                 \u001b[0;32mbreak\u001b[0m\u001b[0;34m\u001b[0m\u001b[0m\n",
      "\u001b[0;31mKeyboardInterrupt\u001b[0m: "
     ]
    }
   ],
   "source": [
    "def getdict(key):\n",
    "    value = ''\n",
    "    \n",
    "    try:\n",
    "        value = myDict[key]\n",
    "    except KeyError:\n",
    "        value = 'key does not exist'\n",
    "    pass\n",
    "\n",
    "    return value\n",
    "    \n",
    "run = 'y'\n",
    "while (run == 'y'):\n",
    "    print(getdict(input('enter key: ')))\n",
    "    run = input(\"stil want to run? y/n: \")"
   ]
  },
  {
   "cell_type": "markdown",
   "metadata": {},
   "source": [
    "## Creating a dictionary with data from a CSV file"
   ]
  },
  {
   "cell_type": "code",
   "execution_count": 5,
   "metadata": {},
   "outputs": [
    {
     "name": "stdout",
     "output_type": "stream",
     "text": [
      "['Python', 'Guido von Rossum']\n",
      "['C', 'Brian Kernighan and Dennis Ritchie']\n",
      "['Pascal', 'Nicholas Wirth']\n",
      "['Ada', 'Jean Ichbiah']\n",
      "['COBOL', 'Jean E. Sammet']\n",
      "['Javascript', 'Brendan Eich']\n",
      "['Java', 'James Gosling']\n",
      "['Processing', 'Casey Reas and Benjamin Fry']\n",
      "{'Python': 'Guido von Rossum', 'C': 'Brian Kernighan and Dennis Ritchie', 'Processing': 'Casey Reas and Benjamin Fry', 'COBOL': 'Jean E. Sammet', 'Javascript': 'Brendan Eich', 'Java': 'James Gosling', 'Pascal': 'Nicholas Wirth', 'Ada': 'Jean Ichbiah'}\n"
     ]
    }
   ],
   "source": [
    "import csv\n",
    "\n",
    "def loadDictFromCSV():\n",
    "    #Sets up the file for reading\n",
    "    with open(\"languages.csv\",\"r\") as f:\n",
    "        reader=csv.reader(f)\n",
    "        #Where we're going to be storing the recipes dictionary\n",
    "        dictionary={}\n",
    "        for row in reader:\n",
    "            print(row) #debug - to see what this is, what data structure and how to access it\n",
    "            index = row[0]\n",
    "            value=row[1]\n",
    "            #Then stores the recipe in the dictionary under the recipe name\n",
    "            dictionary[index]=value\n",
    "        return dictionary\n",
    "    \n",
    "myLangDict = loadDictFromCSV()\n",
    "print(myLangDict)"
   ]
  },
  {
   "cell_type": "markdown",
   "metadata": {},
   "source": [
    "## Querying a dictionary"
   ]
  },
  {
   "cell_type": "code",
   "execution_count": 8,
   "metadata": {},
   "outputs": [
    {
     "name": "stdout",
     "output_type": "stream",
     "text": [
      "the name of the programming language you want to know the author ofada\n",
      "lang does not exist\n",
      "do you want to find out another? y/ny\n",
      "the name of the programming language you want to know the author ofAda\n",
      "the author of  Ada  is  Jean Ichbiah\n"
     ]
    },
    {
     "ename": "KeyboardInterrupt",
     "evalue": "",
     "output_type": "error",
     "traceback": [
      "\u001b[0;31m---------------------------------------------------------------------------\u001b[0m",
      "\u001b[0;31mKeyboardInterrupt\u001b[0m                         Traceback (most recent call last)",
      "\u001b[0;32m/usr/local/lib/python3.5/dist-packages/ipykernel/kernelbase.py\u001b[0m in \u001b[0;36m_input_request\u001b[0;34m(self, prompt, ident, parent, password)\u001b[0m\n\u001b[1;32m    726\u001b[0m             \u001b[0;32mtry\u001b[0m\u001b[0;34m:\u001b[0m\u001b[0;34m\u001b[0m\u001b[0m\n\u001b[0;32m--> 727\u001b[0;31m                 \u001b[0mident\u001b[0m\u001b[0;34m,\u001b[0m \u001b[0mreply\u001b[0m \u001b[0;34m=\u001b[0m \u001b[0mself\u001b[0m\u001b[0;34m.\u001b[0m\u001b[0msession\u001b[0m\u001b[0;34m.\u001b[0m\u001b[0mrecv\u001b[0m\u001b[0;34m(\u001b[0m\u001b[0mself\u001b[0m\u001b[0;34m.\u001b[0m\u001b[0mstdin_socket\u001b[0m\u001b[0;34m,\u001b[0m \u001b[0;36m0\u001b[0m\u001b[0;34m)\u001b[0m\u001b[0;34m\u001b[0m\u001b[0m\n\u001b[0m\u001b[1;32m    728\u001b[0m             \u001b[0;32mexcept\u001b[0m \u001b[0mException\u001b[0m\u001b[0;34m:\u001b[0m\u001b[0;34m\u001b[0m\u001b[0m\n",
      "\u001b[0;32m/usr/local/lib/python3.5/dist-packages/jupyter_client/session.py\u001b[0m in \u001b[0;36mrecv\u001b[0;34m(self, socket, mode, content, copy)\u001b[0m\n\u001b[1;32m    802\u001b[0m         \u001b[0;32mtry\u001b[0m\u001b[0;34m:\u001b[0m\u001b[0;34m\u001b[0m\u001b[0m\n\u001b[0;32m--> 803\u001b[0;31m             \u001b[0mmsg_list\u001b[0m \u001b[0;34m=\u001b[0m \u001b[0msocket\u001b[0m\u001b[0;34m.\u001b[0m\u001b[0mrecv_multipart\u001b[0m\u001b[0;34m(\u001b[0m\u001b[0mmode\u001b[0m\u001b[0;34m,\u001b[0m \u001b[0mcopy\u001b[0m\u001b[0;34m=\u001b[0m\u001b[0mcopy\u001b[0m\u001b[0;34m)\u001b[0m\u001b[0;34m\u001b[0m\u001b[0m\n\u001b[0m\u001b[1;32m    804\u001b[0m         \u001b[0;32mexcept\u001b[0m \u001b[0mzmq\u001b[0m\u001b[0;34m.\u001b[0m\u001b[0mZMQError\u001b[0m \u001b[0;32mas\u001b[0m \u001b[0me\u001b[0m\u001b[0;34m:\u001b[0m\u001b[0;34m\u001b[0m\u001b[0m\n",
      "\u001b[0;32m/usr/local/lib/python3.5/dist-packages/zmq/sugar/socket.py\u001b[0m in \u001b[0;36mrecv_multipart\u001b[0;34m(self, flags, copy, track)\u001b[0m\n\u001b[1;32m    394\u001b[0m         \"\"\"\n\u001b[0;32m--> 395\u001b[0;31m         \u001b[0mparts\u001b[0m \u001b[0;34m=\u001b[0m \u001b[0;34m[\u001b[0m\u001b[0mself\u001b[0m\u001b[0;34m.\u001b[0m\u001b[0mrecv\u001b[0m\u001b[0;34m(\u001b[0m\u001b[0mflags\u001b[0m\u001b[0;34m,\u001b[0m \u001b[0mcopy\u001b[0m\u001b[0;34m=\u001b[0m\u001b[0mcopy\u001b[0m\u001b[0;34m,\u001b[0m \u001b[0mtrack\u001b[0m\u001b[0;34m=\u001b[0m\u001b[0mtrack\u001b[0m\u001b[0;34m)\u001b[0m\u001b[0;34m]\u001b[0m\u001b[0;34m\u001b[0m\u001b[0m\n\u001b[0m\u001b[1;32m    396\u001b[0m         \u001b[0;31m# have first part already, only loop while more to receive\u001b[0m\u001b[0;34m\u001b[0m\u001b[0;34m\u001b[0m\u001b[0m\n",
      "\u001b[0;32mzmq/backend/cython/socket.pyx\u001b[0m in \u001b[0;36mzmq.backend.cython.socket.Socket.recv\u001b[0;34m()\u001b[0m\n",
      "\u001b[0;32mzmq/backend/cython/socket.pyx\u001b[0m in \u001b[0;36mzmq.backend.cython.socket.Socket.recv\u001b[0;34m()\u001b[0m\n",
      "\u001b[0;32mzmq/backend/cython/socket.pyx\u001b[0m in \u001b[0;36mzmq.backend.cython.socket._recv_copy\u001b[0;34m()\u001b[0m\n",
      "\u001b[0;32m/usr/local/lib/python3.5/dist-packages/zmq/backend/cython/checkrc.pxd\u001b[0m in \u001b[0;36mzmq.backend.cython.checkrc._check_rc\u001b[0;34m()\u001b[0m\n",
      "\u001b[0;31mKeyboardInterrupt\u001b[0m: ",
      "\nDuring handling of the above exception, another exception occurred:\n",
      "\u001b[0;31mKeyboardInterrupt\u001b[0m                         Traceback (most recent call last)",
      "\u001b[0;32m<ipython-input-8-b4927d7101ad>\u001b[0m in \u001b[0;36m<module>\u001b[0;34m()\u001b[0m\n\u001b[1;32m     16\u001b[0m     \u001b[0;32melse\u001b[0m\u001b[0;34m:\u001b[0m\u001b[0;34m\u001b[0m\u001b[0m\n\u001b[1;32m     17\u001b[0m         \u001b[0mprint\u001b[0m\u001b[0;34m(\u001b[0m\u001b[0;34m\"the author of \"\u001b[0m\u001b[0;34m,\u001b[0m \u001b[0mkey\u001b[0m\u001b[0;34m,\u001b[0m \u001b[0;34m\" is \"\u001b[0m\u001b[0;34m,\u001b[0m \u001b[0mauthor\u001b[0m\u001b[0;34m)\u001b[0m\u001b[0;34m\u001b[0m\u001b[0m\n\u001b[0;32m---> 18\u001b[0;31m     \u001b[0mcont\u001b[0m \u001b[0;34m=\u001b[0m \u001b[0minput\u001b[0m\u001b[0;34m(\u001b[0m\u001b[0;34m\"do you want to find out another? y/n\"\u001b[0m\u001b[0;34m)\u001b[0m\u001b[0;34m.\u001b[0m\u001b[0mlower\u001b[0m\u001b[0;34m(\u001b[0m\u001b[0;34m)\u001b[0m\u001b[0;34m\u001b[0m\u001b[0m\n\u001b[0m\u001b[1;32m     19\u001b[0m \u001b[0;34m\u001b[0m\u001b[0m\n\u001b[1;32m     20\u001b[0m \u001b[0;34m\u001b[0m\u001b[0m\n",
      "\u001b[0;32m/usr/local/lib/python3.5/dist-packages/ipykernel/kernelbase.py\u001b[0m in \u001b[0;36mraw_input\u001b[0;34m(self, prompt)\u001b[0m\n\u001b[1;32m    700\u001b[0m             \u001b[0mself\u001b[0m\u001b[0;34m.\u001b[0m\u001b[0m_parent_ident\u001b[0m\u001b[0;34m,\u001b[0m\u001b[0;34m\u001b[0m\u001b[0m\n\u001b[1;32m    701\u001b[0m             \u001b[0mself\u001b[0m\u001b[0;34m.\u001b[0m\u001b[0m_parent_header\u001b[0m\u001b[0;34m,\u001b[0m\u001b[0;34m\u001b[0m\u001b[0m\n\u001b[0;32m--> 702\u001b[0;31m             \u001b[0mpassword\u001b[0m\u001b[0;34m=\u001b[0m\u001b[0;32mFalse\u001b[0m\u001b[0;34m,\u001b[0m\u001b[0;34m\u001b[0m\u001b[0m\n\u001b[0m\u001b[1;32m    703\u001b[0m         )\n\u001b[1;32m    704\u001b[0m \u001b[0;34m\u001b[0m\u001b[0m\n",
      "\u001b[0;32m/usr/local/lib/python3.5/dist-packages/ipykernel/kernelbase.py\u001b[0m in \u001b[0;36m_input_request\u001b[0;34m(self, prompt, ident, parent, password)\u001b[0m\n\u001b[1;32m    730\u001b[0m             \u001b[0;32mexcept\u001b[0m \u001b[0mKeyboardInterrupt\u001b[0m\u001b[0;34m:\u001b[0m\u001b[0;34m\u001b[0m\u001b[0m\n\u001b[1;32m    731\u001b[0m                 \u001b[0;31m# re-raise KeyboardInterrupt, to truncate traceback\u001b[0m\u001b[0;34m\u001b[0m\u001b[0;34m\u001b[0m\u001b[0m\n\u001b[0;32m--> 732\u001b[0;31m                 \u001b[0;32mraise\u001b[0m \u001b[0mKeyboardInterrupt\u001b[0m\u001b[0;34m\u001b[0m\u001b[0m\n\u001b[0m\u001b[1;32m    733\u001b[0m             \u001b[0;32melse\u001b[0m\u001b[0;34m:\u001b[0m\u001b[0;34m\u001b[0m\u001b[0m\n\u001b[1;32m    734\u001b[0m                 \u001b[0;32mbreak\u001b[0m\u001b[0;34m\u001b[0m\u001b[0m\n",
      "\u001b[0;31mKeyboardInterrupt\u001b[0m: "
     ]
    }
   ],
   "source": [
    "# allow the user to query the dictionary\n",
    "\n",
    "cont = 'y' # assume the user wants to run the loop at least once\n",
    "while cont == 'y':\n",
    "    key=input(\"the name of the programming language you want to know the author of\")\n",
    "    \n",
    "    author = ''\n",
    "    try:\n",
    "        author = myLangDict[key]\n",
    "    except KeyError:\n",
    "        author = False\n",
    "    pass\n",
    "\n",
    "    if author == False:\n",
    "        print(\"lang does not exist\")\n",
    "    else:\n",
    "        print(\"the author of \", key, \" is \", author)\n",
    "    cont = input(\"do you want to find out another? y/n\").lower()\n",
    "\n",
    "\n",
    "# improve this code so that it gives and error message when the user enters an language incorrectly or one that does not \n",
    "# exisit in the dictionary - use try/except to catch the KeyError"
   ]
  },
  {
   "cell_type": "code",
   "execution_count": null,
   "metadata": {},
   "outputs": [],
   "source": []
  },
  {
   "cell_type": "markdown",
   "metadata": {},
   "source": [
    "## references\n",
    "\n",
    "https://www.tutorialspoint.com/python/python_dictionary.htm\n",
    "\n",
    "https://docs.python.org/3/tutorial/datastructures.html"
   ]
  },
  {
   "cell_type": "markdown",
   "metadata": {},
   "source": [
    "## Task: Recipes\n",
    "\n",
    "Use the CSV file recipes.csv that you have been given\n",
    "The format is as follows:\n",
    "``` \n",
    "Name of recipe, Num of servings, ingredient1, amount1, unit1, ingredient2, amount2, unit2, .... .... .....\n",
    "Buttery Scones, 8, flour, 225, grams, sugar, 25, grams, milk, 150, ml, egg, 1, , butter, 55, grams, salt, 1, pinch \n",
    "```\n",
    "1) Write code that will read the recipe information into a dictionary. The key should be the name of the recipe and the value will be a list of ingredients like this:\n",
    "\n",
    "```\n",
    "{'Bolognaise sauce': [' 4', ' minced beef', ' 255', ' grams', ' olive oil', ' 2', ' tbsp', ' onion', ' 1', ' ', ' green pepper', '1', '', ' garlic', ' 1', ' clove', ' tinned tomatoes', ' 400', ' grams', ' red wine', ' 150', ' ml'], 'Buttery Scones': [' 8', ' flour', ' 225', ' grams', ' sugar', ' 25', ' grams', ' milk', ' 150', ' ml', ' egg', ' 1', ' ', ' butter', ' 55', ' grams', ' salt', ' 1', ' pinch'], 'Hollandaise Sauce': [' 2', ' vinegar', ' 3', ' tbsp', ' peppercorns', ' 6', ' ', ' bay leaf', ' 1', ' ', ' eggs', ' 2', ' ', ' butter', ' 125', ' grams'], 'Goats cheese tart': [' 12', ' puff pastry', ' 1 ', ' packet', \" goat's cheese\", ' 120', ' grams', ' figs', ' 4', ' ', ' honey', ' 25', ' ml']}\n",
    "\n",
    "```\n",
    "\n",
    "2) Now print out the recipe that the user wants to see. First just print the list, then try to print it in a more pleasing format\n",
    "\n",
    "3) Now allow the user to enter a new recipe. \n",
    "\n",
    "- First the name of the recipe, \n",
    "- then the number of servings\n",
    "- then the ingredients in 3 steps: name, amount, unit (which may be left empty)\n",
    "\n",
    "4) Now allow the user to enter the number of servings they want and write code to recalculate the amount of ingredients needed for that number of servings. \n"
   ]
  },
  {
   "cell_type": "code",
   "execution_count": 12,
   "metadata": {},
   "outputs": [
    {
     "name": "stdout",
     "output_type": "stream",
     "text": [
      "{'Goats cheese tart': [' 12', ' puff pastry', ' 1 ', ' packet', \" goat's cheese\", ' 120', ' grams', ' figs', ' 4', ' ', ' honey', ' 25', ' ml'], 'Hollandaise Sauce': [' 2', ' vinegar', ' 3', ' tbsp', ' peppercorns', ' 6', ' ', ' bay leaf', ' 1', ' ', ' eggs', ' 2', ' ', ' butter', ' 125', ' grams'], 'Buttery Scones': [' 8', ' flour', ' 225', ' grams', ' sugar', ' 25', ' grams', ' milk', ' 150', ' ml', ' egg', ' 1', ' ', ' butter', ' 55', ' grams', ' salt', ' 1', ' pinch'], 'Bolognaise sauce': [' 4', ' minced beef', ' 255', ' grams', ' olive oil', ' 2', ' tbsp', ' onion', ' 1', ' ', ' green pepper', '1', '', ' garlic', ' 1', ' clove', ' tinned tomatoes', ' 400', ' grams', ' red wine', ' 150', ' ml']}\n"
     ]
    }
   ],
   "source": [
    "def loadRecipes():\n",
    "    #Sets up the file for reading\n",
    "    with open(\"recipes.csv\",\"r\") as f:\n",
    "        reader=csv.reader(f)\n",
    "        #Where we're going to be storing the recipes dictionary\n",
    "        recipes={}\n",
    "        for row in reader:\n",
    "            #Then stores the recipe in the dictionary under the recipe name\n",
    "            recipes[row[0]]=row[1:]\n",
    "        return recipes\n",
    "recipes=loadRecipes()\n",
    "print(recipes)"
   ]
  },
  {
   "cell_type": "code",
   "execution_count": 13,
   "metadata": {},
   "outputs": [
    {
     "name": "stdout",
     "output_type": "stream",
     "text": [
      "Recipe name: Bolognaise sauce\n",
      "Servings: 1000\n",
      " minced beef: 63750.0  grams\n",
      " olive oil: 500.0  tbsp\n",
      " onion: 250.0  \n",
      " green pepper: 250.0 \n",
      " garlic: 250.0  clove\n",
      " tinned tomatoes: 100000.0  grams\n",
      " red wine: 37500.0  ml\n"
     ]
    }
   ],
   "source": [
    "recipeName=input(\"Recipe name: \")\n",
    "\n",
    "while recipeName not in recipes:\n",
    "    print(\"Error: Recipe does not exist\")\n",
    "    recipeName=input(\"Recipe name: \")\n",
    "\n",
    "newNumberOfPeople=int(input(\"Servings: \"))\n",
    "\n",
    "for i in range(1,len(recipes[recipeName]),3):\n",
    "    item=recipes[recipeName][i]\n",
    "    amount=recipes[recipeName][i+1]\n",
    "    unit=recipes[recipeName][i+2]\n",
    "    print(item+\": \"+str(float(amount)*float(newNumberOfPeople)/float(recipes[recipeName][0]))+\" \"+unit)"
   ]
  },
  {
   "cell_type": "code",
   "execution_count": null,
   "metadata": {},
   "outputs": [],
   "source": []
  }
 ],
 "metadata": {
  "kernelspec": {
   "display_name": "Python 3",
   "language": "python",
   "name": "python3"
  },
  "language_info": {
   "codemirror_mode": {
    "name": "ipython",
    "version": 3
   },
   "file_extension": ".py",
   "mimetype": "text/x-python",
   "name": "python",
   "nbconvert_exporter": "python",
   "pygments_lexer": "ipython3",
   "version": "3.5.2"
  }
 },
 "nbformat": 4,
 "nbformat_minor": 2
}
